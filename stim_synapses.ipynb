{
 "cells": [
  {
   "cell_type": "code",
   "execution_count": 1,
   "id": "0bcf8376",
   "metadata": {},
   "outputs": [],
   "source": [
    "from allensdk.model.biophys_sim.config import Config\n",
    "from allensdk.model.biophysical.utils import Utils\n",
    "import os\n",
    "import json\n",
    "import matplotlib.pyplot as plt\n",
    "import numpy as np\n",
    "import sys"
   ]
  },
  {
   "cell_type": "code",
   "execution_count": 2,
   "id": "57fa857a",
   "metadata": {},
   "outputs": [],
   "source": [
    "os.chdir(\"OriginalFromAllenDB\")"
   ]
  },
  {
   "cell_type": "code",
   "execution_count": 3,
   "id": "d24b1193",
   "metadata": {},
   "outputs": [],
   "source": [
    "from allensdk.api.queries.biophysical_api import BiophysicalApi\n",
    "from allensdk.model.biophys_sim.config import Config\n",
    "from allensdk.model.biophysical.utils import Utils\n",
    "from bmtool.synapses import SynapseTuner"
   ]
  },
  {
   "cell_type": "code",
   "execution_count": 4,
   "id": "3a71c87b",
   "metadata": {},
   "outputs": [
    {
     "data": {
      "text/plain": [
       "1.0"
      ]
     },
     "execution_count": 4,
     "metadata": {},
     "output_type": "execute_result"
    }
   ],
   "source": [
    "from neuron import h\n",
    "h.load_file(\"stdrun.hoc\")  # Required to use h.run()"
   ]
  },
  {
   "cell_type": "code",
   "execution_count": 5,
   "id": "1e14199c",
   "metadata": {},
   "outputs": [
    {
     "name": "stdout",
     "output_type": "stream",
     "text": [
      "/home/dpd4k4/repos/binocular_integration/OriginalFromAllenDB\n",
      "Mod files: \"modfiles/modfiles/AMPA_NMDA_STP.mod\" \"modfiles/modfiles/CaDynamics.mod\" \"modfiles/modfiles/Ca_HVA.mod\" \"modfiles/modfiles/Ca_LVA.mod\" \"modfiles/modfiles/Ih.mod\" \"modfiles/modfiles/Im.mod\" \"modfiles/modfiles/Im_v2.mod\" \"modfiles/modfiles/K_P.mod\" \"modfiles/modfiles/K_T.mod\" \"modfiles/modfiles/Kd.mod\" \"modfiles/modfiles/Kv2like.mod\" \"modfiles/modfiles/Kv3_1.mod\" \"modfiles/modfiles/NMDAIN.mod\" \"modfiles/modfiles/NaTa.mod\" \"modfiles/modfiles/NaTs.mod\" \"modfiles/modfiles/NaV.mod\" \"modfiles/modfiles/Nap.mod\" \"modfiles/modfiles/SK.mod\" \"modfiles/modfiles/cpampain.mod\" \"modfiles/modfiles/gabaain.mod\" \"modfiles/modfiles/vecstim.mod\"\n",
      "\n",
      " -> \u001b[32mCompiling\u001b[0m mod_func.cpp\n",
      " => \u001b[32mLINKING\u001b[0m shared library ./libnrnmech.so\n",
      "Successfully created x86_64/special\n"
     ]
    }
   ],
   "source": [
    "!nrnivmodl modfiles "
   ]
  },
  {
   "cell_type": "code",
   "execution_count": 6,
   "id": "882ab9b9",
   "metadata": {},
   "outputs": [
    {
     "data": {
      "text/plain": [
       "0.0"
      ]
     },
     "execution_count": 6,
     "metadata": {},
     "output_type": "execute_result"
    }
   ],
   "source": [
    "h.nrn_load_dll(\"modfiles/x86_64/.libs/libnrnmech.so\")"
   ]
  },
  {
   "cell_type": "code",
   "execution_count": 7,
   "id": "021d35e2",
   "metadata": {},
   "outputs": [],
   "source": [
    "import random\n",
    "from neuron import h\n",
    "\n",
    "class AllenCell:\n",
    "    def __init__(self, gid, soma_diam_multiplier=1.0):\n",
    "        \n",
    "        self._gid = gid\n",
    "        self.synapses = []  # Keep track of all synapses\n",
    "        self.netcons = []   # Keep track of NetCons\n",
    "        self.stims = []     # Keep VecStims so they don't get garbage-collected\n",
    "\n",
    "        description = Config().load('manifest.json')\n",
    "\n",
    "        self.utils = Utils(description)\n",
    "        self.h = self.utils.h\n",
    "        self.Vinit = self.utils.description.data['conditions'][0]['v_init']\n",
    "        # Cast all genome values to float\n",
    "        for d in self.utils.description.data['genome']:\n",
    "            if 'value' in d:\n",
    "                d['value'] = float(d['value'])\n",
    "\n",
    "        # Load morphology and parameters\n",
    "        morphology_path = description.manifest.get_path('MORPHOLOGY')\n",
    "        self.utils.generate_morphology(morphology_path.encode('ascii', 'ignore'))\n",
    "        self.utils.load_cell_parameters()\n",
    "        self.setup_morphology(soma_diam_multiplier)\n",
    "        self._build_section_list()\n",
    "    \n",
    "    def setup_morphology(self,soma_diam_multiplier):\n",
    "\n",
    "        self.soma = self.h.soma\n",
    "        self.h.soma[0].diam *= soma_diam_multiplier\n",
    "        self.dend = list(self.h.dend) if hasattr(self.h, 'dend') else []\n",
    "        self.apic = list(self.h.apic) if hasattr(self.h, 'apic') else []\n",
    "        self.axon = list(self.h.axon) if hasattr(self.h, 'axon') else []\n",
    "\n",
    "\n",
    "    def _build_section_list(self):\n",
    "        self.all = h.SectionList()\n",
    "        for sec in h.allsec():\n",
    "            self.all.append(sec)\n",
    "    \n",
    "    def add_random_synapses_from_df(self, df, syn_name, syn_params, section_pool=None):\n",
    "        \"\"\"\n",
    "        Adds synapses at random locations with input times from a DataFrame.\n",
    "\n",
    "        Parameters:\n",
    "        - df: DataFrame with 'node' and 'timestamps' columns\n",
    "        - syn_name: string name of NMODL synapse mechanism\n",
    "        - syn_params: dictionary of synapse parameters (e.g. gmax, tau, e)\n",
    "        - section_pool: list of sections to randomly choose from (default = self.dend)\n",
    "        \"\"\"\n",
    "        if section_pool is None:\n",
    "            section_pool = self.dend  # Default to dendrites\n",
    "\n",
    "        for _, row in df.iterrows():\n",
    "            timestamps = row['timestamps']\n",
    "            if not timestamps:\n",
    "                continue\n",
    "\n",
    "            sec = random.choice(section_pool)\n",
    "            loc = random.uniform(0.1, 0.9)\n",
    "\n",
    "            # Create synapse\n",
    "            syn = getattr(h, syn_name)(sec(loc))\n",
    "            for param, val in syn_params.items():\n",
    "                if hasattr(syn, param):\n",
    "                    setattr(syn, param, val)\n",
    "\n",
    "            # Create VecStim with spike times\n",
    "            vec = h.Vector(timestamps)\n",
    "            stim = h.VecStim()\n",
    "            stim.play(vec)\n",
    "            self.stims.append(stim)\n",
    "\n",
    "            nc = h.NetCon(stim, syn)\n",
    "            nc.weight[0] = syn_params.get('weight', 0.001)\n",
    "\n",
    "            self.synapses.append(syn)\n",
    "            self.netcons.append(nc)\n",
    "\n",
    "\n",
    "            \n",
    "    def __str__(self):\n",
    "        return f\"AllenCell(soma={self.soma}, dendrites={len(self.dend)})\"\n"
   ]
  },
  {
   "cell_type": "code",
   "execution_count": 8,
   "id": "fdf349f0",
   "metadata": {},
   "outputs": [
    {
     "name": "stdout",
     "output_type": "stream",
     "text": [
      "warning ./Sst-IRES-Cre_Ai14-188740.03.02.01_657210399_m.swc: more than one tree:\n",
      "  root at line 4\n",
      "  root at line 14504\n",
      "  root at line 14725\n",
      "  root at line 14798\n",
      "  root at line 15141\n",
      "  root at line 15144\n",
      "  root at line 15156\n",
      "  root at line 15211\n",
      "  root at line 15318\n",
      "  root at line 15496\n",
      "  root at line 15811\n",
      "  root at line 15857\n",
      "  root at line 15883\n",
      "  root at line 16161\n",
      "  root at line 16200\n",
      "  root at line 16210\n",
      "  root at line 16253\n",
      "  root at line 16286\n",
      "  root at line 16301\n",
      "  root at line 16326\n",
      "  root at line 16574\n",
      "  root at line 16613\n",
      "  root at line 16618\n",
      "  root at line 16645\n",
      "  root at line 16695\n",
      "  root at line 16751\n",
      "  root at line 16765\n",
      "  root at line 16768\n"
     ]
    }
   ],
   "source": [
    "cell = AllenCell(0)"
   ]
  },
  {
   "cell_type": "code",
   "execution_count": 9,
   "id": "472bf1b6",
   "metadata": {},
   "outputs": [],
   "source": [
    "syn_params =  {\n",
    "            'initW': 3,\n",
    "            'tau_r_AMPA': 5,\n",
    "            'tau_d_AMPA': 4,\n",
    "            'Use': 0.13,\n",
    "            'Dep': 0.,\n",
    "            'Fac': 200.\n",
    "        }"
   ]
  },
  {
   "cell_type": "code",
   "execution_count": 10,
   "id": "9ca5efdd",
   "metadata": {},
   "outputs": [],
   "source": [
    "from bmtk.utils.reports.spike_trains import PoissonSpikeGenerator\n",
    "import h5py\n",
    "import pandas as pd\n",
    "import matplotlib.pyplot as plt\n",
    "import numpy as np"
   ]
  },
  {
   "cell_type": "code",
   "execution_count": 11,
   "id": "f01fc629",
   "metadata": {},
   "outputs": [],
   "source": [
    "PFR = pd.read_csv(os.path.join(\"..\",\"pyrFiringRateAvg.csv\"),delimiter=\",\")"
   ]
  },
  {
   "cell_type": "code",
   "execution_count": 12,
   "id": "28d0de14",
   "metadata": {},
   "outputs": [],
   "source": [
    "\n",
    "\n",
    "PFR_time_shortened = np.array(PFR['Time'][PFR['Time'] >0])\n",
    "PFR_firing_rate_shortened = np.array(PFR['AvgFiringRate'][PFR['Time'] >0])\n",
    "# plt.plot(PFR_time_shortened,PFR_firing_rate_shortened)\n",
    "# plt.title(\"Average Pyramidal Firing Rate Shortened\")\n",
    "# plt.show()\n",
    "\n"
   ]
  },
  {
   "cell_type": "code",
   "execution_count": 13,
   "id": "91cd07c0",
   "metadata": {},
   "outputs": [
    {
     "name": "stdout",
     "output_type": "stream",
     "text": [
      "Generated 30051 spikes across 10000 neurons\n"
     ]
    }
   ],
   "source": [
    "num_neurons = 10000\n",
    "psg = PoissonSpikeGenerator(population='example_pop', seed=32)\n",
    "\n",
    "for i in range(num_neurons):\n",
    "    psg.add(\n",
    "        node_ids=i,\n",
    "        firing_rate=PFR_firing_rate_shortened,\n",
    "        times=PFR_time_shortened\n",
    "    )\n",
    "\n",
    "spikes_df = psg.to_dataframe()\n",
    "print(f\"Generated {len(spikes_df)} spikes across {num_neurons} neurons\")\n",
    "\n",
    "firing_rates = []\n",
    "# Now loop over actual neuron IDs\n",
    "for node_id in range(num_neurons):\n",
    "    cell_spikes = spikes_df[spikes_df['node_ids'] == node_id]\n",
    "    duration = PFR_time_shortened[-1] - PFR_time_shortened[0]\n",
    "    firing_rate = len(cell_spikes) / duration\n",
    "    firing_rates.append(firing_rate)\n",
    "    # print(f\"Neuron {node_id}: {len(cell_spikes)} spikes, mean rate = {firing_rate:.2f} Hz\")"
   ]
  },
  {
   "cell_type": "code",
   "execution_count": 14,
   "id": "17c20153",
   "metadata": {},
   "outputs": [],
   "source": [
    "N = 2  \n",
    "df_sampled = spikes_df.sample(n=N, random_state=42)"
   ]
  },
  {
   "cell_type": "code",
   "execution_count": 15,
   "id": "242e291e",
   "metadata": {},
   "outputs": [],
   "source": [
    "cell.add_random_synapses_from_df(df_sampled, \"AMPA_NMDA_STP\", syn_params, section_pool=cell.dend)"
   ]
  },
  {
   "cell_type": "code",
   "execution_count": 16,
   "id": "4b5d2770",
   "metadata": {},
   "outputs": [
    {
     "name": "stdout",
     "output_type": "stream",
     "text": [
      "Added 2 synapses\n",
      "Synapse 0: dend[31] @ 0.5\n",
      "Synapse 1: dend[28] @ 0.5\n"
     ]
    }
   ],
   "source": [
    "\n",
    "print(f\"Added {len(cell.synapses)} synapses\")\n",
    "for i, syn in enumerate(cell.synapses):\n",
    "    print(f\"Synapse {i}: {syn.get_segment().sec.name()} @ {syn.get_segment().x}\")\n",
    "\n",
    "\n"
   ]
  },
  {
   "cell_type": "code",
   "execution_count": 17,
   "id": "5a20bc4e",
   "metadata": {},
   "outputs": [
    {
     "data": {
      "text/plain": [
       "0.0"
      ]
     },
     "execution_count": 17,
     "metadata": {},
     "output_type": "execute_result"
    }
   ],
   "source": [
    "from neuron import h, gui  # gui not needed in headless scripts\n",
    "\n",
    "# Set recording vectors\n",
    "tvec = h.Vector().record(h._ref_t)\n",
    "vvec = h.Vector().record(cell.soma[0](0.5)._ref_v)  # somatic Vm\n",
    "\n",
    "# Simulation control\n",
    "h.finitialize(cell.Vinit)\n",
    "h.tstop = 100.0  # ms\n",
    "h.run()\n"
   ]
  },
  {
   "cell_type": "code",
   "execution_count": 18,
   "id": "2f7a75a9",
   "metadata": {},
   "outputs": [
    {
     "data": {
      "text/plain": [
       "[<matplotlib.lines.Line2D at 0x7f49b0a3a8f0>]"
      ]
     },
     "execution_count": 18,
     "metadata": {},
     "output_type": "execute_result"
    },
    {
     "data": {
      "image/png": "[encoded data removed]",
      "text/plain": [
       "<Figure size 640x480 with 1 Axes>"
      ]
     },
     "metadata": {},
     "output_type": "display_data"
    }
   ],
   "source": [
    "plt.plot(tvec,vvec)"
   ]
  },
  {
   "cell_type": "code",
   "execution_count": 14,
   "id": "42791a3e",
   "metadata": {},
   "outputs": [
    {
     "data": {
      "image/png": "[encoded data removed]",
      "text/plain": [
       "<Figure size 640x480 with 1 Axes>"
      ]
     },
     "metadata": {},
     "output_type": "display_data"
    }
   ],
   "source": [
    "\n",
    "\n",
    "# Define time bins (assuming ms timestamps and 1 ms bins)\n",
    "bin_size = 1  # in ms\n",
    "times = np.arange(0, 500 + bin_size, bin_size)\n",
    "\n",
    "# Histogram of spike counts per bin\n",
    "spike_counts, _ = np.histogram(spikes_df['timestamps'], bins=times)\n",
    "\n",
    "# Optional: Normalize to get firing rate\n",
    "# If you have N neurons and you want average firing rate per neuron:\n",
    "N_NEURONS = len(spikes_df['node_ids'].unique())\n",
    "spike_rate = spike_counts / (bin_size / 1000) / N_NEURONS  # Convert ms to seconds\n",
    "\n",
    "plt.plot(times[:-1], spike_rate)\n",
    "plt.xlabel(\"Time (ms)\")\n",
    "plt.ylabel(\"Avg firing rate (Hz)\")\n",
    "plt.show()\n",
    "\n"
   ]
  },
  {
   "cell_type": "code",
   "execution_count": null,
   "id": "0b5f032e",
   "metadata": {},
   "outputs": [],
   "source": []
  }
 ],
 "metadata": {
  "kernelspec": {
   "display_name": "local_env",
   "language": "python",
   "name": "python3"
  },
  "language_info": {
   "codemirror_mode": {
    "name": "ipython",
    "version": 3
   },
   "file_extension": ".py",
   "mimetype": "text/x-python",
   "name": "python",
   "nbconvert_exporter": "python",
   "pygments_lexer": "ipython3",
   "version": "3.10.12"
  }
 },
 "nbformat": 4,
 "nbformat_minor": 5
}
