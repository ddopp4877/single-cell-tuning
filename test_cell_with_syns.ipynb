{
  "cells": [
    {
      "cell_type": "code",
      "execution_count": 1,
      "metadata": {
        "id": "7KMaE_ncMSjg"
      },
      "outputs": [],
      "source": [
        "# Mouse L2/3 SST (Som) cell\n",
        "# http://celltypes.brain-map.org/mouse/experiment/electrophysiology/476686112\n",
        "specimen_id = 476686112\n",
        "model_type = 'perisomatic'#or 'all active'\n",
        "work_dir = 'OriginalFromAllenDB'"
      ]
    },
    {
      "cell_type": "code",
      "execution_count": 2,
      "metadata": {
        "id": "u1vgjlIJMWDV"
      },
      "outputs": [],
      "source": [
        "from allensdk.model.biophys_sim.config import Config\n",
        "from allensdk.model.biophysical.utils import Utils\n",
        "import os\n",
        "import json\n",
        "import matplotlib.pyplot as plt\n",
        "import numpy as np\n",
        "import sys\n",
        "sys.path.append(\"ACT\")\n",
        "from act.passive import ACTPassiveModule"
      ]
    },
    {
      "cell_type": "code",
      "execution_count": 3,
      "metadata": {
        "id": "2eD4PelIMbK5"
      },
      "outputs": [],
      "source": [
        "from allensdk.api.queries.biophysical_api import BiophysicalApi\n",
        "from allensdk.model.biophys_sim.config import Config\n",
        "from allensdk.model.biophysical.utils import Utils"
      ]
    },
    {
      "cell_type": "code",
      "execution_count": 4,
      "metadata": {
        "colab": {
          "base_uri": "https://localhost:8080/"
        },
        "id": "YephJda7Mg9D",
        "outputId": "5fbe2f32-2907-44ef-b3ba-609f9eab22c5"
      },
      "outputs": [],
      "source": [
        "\n",
        "os.chdir(work_dir)"
      ]
    },
    {
      "cell_type": "code",
      "execution_count": 5,
      "metadata": {
        "id": "tILiCtBjMkIT"
      },
      "outputs": [],
      "source": [
        "# Compile the modfiles\n",
        "\n",
        "!nrnivmodl modfiles > /dev/null 2>&1"
      ]
    },
    {
      "cell_type": "code",
      "execution_count": 6,
      "metadata": {
        "id": "4LvpkUVGMlwt"
      },
      "outputs": [],
      "source": [
        "import sys, os\n",
        "from functools import wraps\n",
        "\n",
        "def suppress_output(fn):\n",
        "    @wraps(fn)\n",
        "    def wrapper(*args, **kwargs):\n",
        "        devnull = open(os.devnull, 'w')\n",
        "        old_stdout, old_stderr = sys.stdout, sys.stderr\n",
        "        sys.stdout = sys.stderr = devnull\n",
        "        try:\n",
        "            return fn(*args, **kwargs)\n",
        "        finally:\n",
        "            sys.stdout, sys.stderr = old_stdout, old_stderr\n",
        "            devnull.close()\n",
        "    return wrapper"
      ]
    },
    {
      "cell_type": "code",
      "execution_count": 7,
      "metadata": {
        "id": "QdNZkLnlMq8k"
      },
      "outputs": [],
      "source": [
        "\n",
        "@suppress_output\n",
        "def build_cell(soma_diam_multiplier = 1,using_hoc=False,hoc_filename=None,cell_name=None):\n",
        "\n",
        "    if using_hoc:\n",
        "      from neuron import h\n",
        "      h.load_file(hoc_filename)\n",
        "      return getattr(h, cell_name)()\n",
        "    # Create the h object\n",
        "    description = Config().load('manifest.json')\n",
        "    utils = Utils(description)\n",
        "    h = Utils.h\n",
        "    # Convert all \"value\" attributes to floats\n",
        "    for dict in utils.description.data['genome']:\n",
        "        for key, value in dict.items():\n",
        "            if key == 'value': dict[key] = float(value)\n",
        "    # Configure morphology\n",
        "    morphology_path = description.manifest.get_path('MORPHOLOGY')\n",
        "    utils.generate_morphology(morphology_path.encode('ascii', 'ignore'))\n",
        "    utils.load_cell_parameters()\n",
        "    # To match PP\n",
        "    h.soma[0].diam = h.soma[0].diam * soma_diam_multiplier\n",
        "\n",
        "    return h"
      ]
    },
    {
      "cell_type": "code",
      "execution_count": 8,
      "metadata": {
        "id": "hEb8aBy1UMov"
      },
      "outputs": [],
      "source": [
        "def create_syns(syn_point_proc,hobject, seg,dend_sec_no, nsyn):\n",
        "  syns =  [syn_point_proc(seg, sec=hobject.dend[int(dend_sec_no)]) for i in range(nsyn)]\n",
        "  return syns"
      ]
    },
    {
      "cell_type": "code",
      "execution_count": 13,
      "metadata": {
        "id": "p678tfS9M6g7"
      },
      "outputs": [],
      "source": [
        "\n",
        "nsyn_exc = int(40 *.04 * 2) #syns in the 40 um windows\n",
        "\n",
        "def run_sim():\n",
        "\n",
        "  hobject = build_cell(1)\n",
        "\n",
        "  #             proximal                                          #distal\n",
        "  ampa_syns = create_syns(hobject.CPGLUIN,hobject,0.5,32,nsyn_exc) + create_syns(hobject.CPGLUIN,hobject,0.64,33,nsyn_exc)\n",
        "  nmda_syns =  create_syns(hobject.NMDAIN,hobject,0.5,32,nsyn_exc) + create_syns(hobject.NMDAIN,hobject,0.64,33,nsyn_exc)\n",
        "  # GABAS = create_syns(h.GABAain,0.5,32,1) + create_syns(h.GABAain,0.64,33,1)\n",
        "\n",
        "\n",
        "  AMPAS = []\n",
        "  NMDAS = []\n",
        "  vecstims_ampa = []\n",
        "  vecstims_nmda = []\n",
        "\n",
        "  for i in range(len(ampa_syns)):#assuming same no. ampa and nmda\n",
        "\n",
        "    vecstims_ampa.append(hobject.VecStim())\n",
        "    ampaNetCON = hobject.NetCon(vecstims_ampa[-1],ampa_syns[i])\n",
        "    AMPAS.append(ampaNetCON)\n",
        "\n",
        "\n",
        "    vecstims_nmda.append(hobject.VecStim())\n",
        "    nmdaNetCON = hobject.NetCon(vecstims_nmda[-1],nmda_syns[i])\n",
        "    NMDAS.append(nmdaNetCON)\n",
        "\n",
        "\n",
        "\n",
        "  # event_times = [[100], [100.5],[101]]\n",
        "  vecstims_ampa[0].play(hobject.Vector([10]))\n",
        "  # vecstims_nmda[0].play(hobject.Vector(event_times[0]))\n",
        "  # vecstims_ampa[1].play(hobject.Vector(event_times[1]))\n",
        "  # vecstims_nmda[1].play(hobject.Vector(event_times[1]))\n",
        "  v = hobject.Vector().record(hobject.dend[32](0.5)._ref_v)\n",
        "\n",
        "\n",
        "  hobject.dt=0.025\n",
        "  hobject.tstop = 1000\n",
        "  hobject.finitialize(-75)\n",
        "  hobject.run()\n",
        "  #clear NEURON level variables so this cell can be rerun\n",
        "  V = v.as_numpy()\n",
        "  return V"
      ]
    },
    {
      "cell_type": "code",
      "execution_count": 14,
      "metadata": {
        "colab": {
          "base_uri": "https://localhost:8080/",
          "height": 448
        },
        "id": "NYutHarwOATw",
        "outputId": "9980cd57-f9bd-41e0-a171-734311d581b4"
      },
      "outputs": [
        {
          "ename": "",
          "evalue": "",
          "output_type": "error",
          "traceback": [
            "\u001b[1;31mThe Kernel crashed while executing code in the current cell or a previous cell. \n",
            "\u001b[1;31mPlease review the code in the cell(s) to identify a possible cause of the failure. \n",
            "\u001b[1;31mClick <a href='https://aka.ms/vscodeJupyterKernelCrash'>here</a> for more info. \n",
            "\u001b[1;31mView Jupyter <a href='command:jupyter.viewOutput'>log</a> for further details."
          ]
        }
      ],
      "source": [
        "v = run_sim()\n",
        "plt.plot(v)"
      ]
    }
  ],
  "metadata": {
    "colab": {
      "provenance": []
    },
    "kernelspec": {
      "display_name": "local_env",
      "language": "python",
      "name": "python3"
    },
    "language_info": {
      "codemirror_mode": {
        "name": "ipython",
        "version": 3
      },
      "file_extension": ".py",
      "mimetype": "text/x-python",
      "name": "python",
      "nbconvert_exporter": "python",
      "pygments_lexer": "ipython3",
      "version": "3.10.12"
    }
  },
  "nbformat": 4,
  "nbformat_minor": 0
}
