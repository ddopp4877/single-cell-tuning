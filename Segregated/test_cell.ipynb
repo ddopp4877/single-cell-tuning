{
  "cells": [
    {
      "cell_type": "markdown",
      "metadata": {
        "id": "wj5V_SKWdn8R"
      },
      "source": [
        "# Run cells from AllenDB"
      ]
    },
    {
      "cell_type": "code",
      "source": [
        "!pip install --upgrade numpy==1.24.4 pandas==2.2.2 scipy==1.11.3> /dev/null 2>&1\n",
        "\n",
        "import os\n",
        "os.kill(os.getpid(), 9)#restart so the above packages can be used"
      ],
      "metadata": {
        "id": "CcQJ9SLPdozc"
      },
      "execution_count": null,
      "outputs": []
    },
    {
      "cell_type": "markdown",
      "source": [
        "#after the above cell has restarted the session, run all below"
      ],
      "metadata": {
        "id": "beVEtCuIRejo"
      }
    },
    {
      "cell_type": "markdown",
      "source": [
        "#choose specimen id and model type"
      ],
      "metadata": {
        "id": "0Gu2U1vURE0f"
      }
    },
    {
      "cell_type": "code",
      "source": [
        "# Mouse L2/3 SST (Som) cell\n",
        "# http://celltypes.brain-map.org/mouse/experiment/electrophysiology/476686112\n",
        "specimen_id = 476686112#484635029#\n",
        "model_type = 'perisomatic'#or 'all active'\n",
        "work_dir = 'OriginalFromAllenDB'"
      ],
      "metadata": {
        "id": "BVCtvRNcRG6v"
      },
      "execution_count": 9,
      "outputs": []
    },
    {
      "cell_type": "code",
      "execution_count": 1,
      "metadata": {
        "id": "ni3ndt_-kYPm"
      },
      "outputs": [],
      "source": [
        "# If running in Colab\n",
        "!pip install --upgrade pip2 > /dev/null 2>&1\n",
        "!pip install --quiet allensdk neuron > /dev/null 2>&1\n",
        "!git clone -b release_candidate https://github.com/V-Marco/ACT.git > /dev/null 2>&1"
      ]
    },
    {
      "cell_type": "code",
      "execution_count": 2,
      "metadata": {
        "id": "Fg6QlbRJvcha"
      },
      "outputs": [],
      "source": [
        "from allensdk.model.biophys_sim.config import Config\n",
        "from allensdk.model.biophysical.utils import Utils\n",
        "import os\n",
        "import json\n",
        "import matplotlib.pyplot as plt\n",
        "import numpy as np\n",
        "import sys\n",
        "sys.path.append(\"ACT\")\n",
        "from act.passive import ACTPassiveModule"
      ]
    },
    {
      "cell_type": "code",
      "source": [
        "!pip install --quiet allensdk neuron"
      ],
      "metadata": {
        "id": "7APVqlp-G-hw"
      },
      "execution_count": 3,
      "outputs": []
    },
    {
      "cell_type": "code",
      "source": [
        "from allensdk.api.queries.biophysical_api import BiophysicalApi\n",
        "from allensdk.model.biophys_sim.config import Config\n",
        "from allensdk.model.biophysical.utils import Utils"
      ],
      "metadata": {
        "id": "ogrbnkqXG_JM"
      },
      "execution_count": 4,
      "outputs": []
    },
    {
      "cell_type": "markdown",
      "source": [
        "#Download the cell -  if using HOC: upload the hoc template to the working directory and modfiles into a folder named 'modfiles' and skip to 'Build the Cell' then 'Simulation Parameters'"
      ],
      "metadata": {
        "id": "hLtoKzYFPS83"
      }
    },
    {
      "cell_type": "markdown",
      "source": [
        "#Also if using hoc, double check parameters every time build_cell() is used"
      ],
      "metadata": {
        "id": "zoN2RvxqW5yk"
      }
    },
    {
      "cell_type": "code",
      "source": [
        "#get the model id\n",
        "\n",
        "bp = BiophysicalApi()#using AllenDB's API\n",
        "models = bp.get_neuronal_models(specimen_id)\n",
        "\n",
        "for model in models:\n",
        "  if model_type in model['name'].lower():\n",
        "    print(f\"model id = {model['id']}\\n\")\n",
        "    model_id = model['id']\n",
        "models"
      ],
      "metadata": {
        "colab": {
          "base_uri": "https://localhost:8080/"
        },
        "id": "70jAoqLNPSXw",
        "outputId": "a6e6e17c-f70e-43f2-b1e5-34222ad18c1c"
      },
      "execution_count": 8,
      "outputs": [
        {
          "output_type": "stream",
          "name": "stdout",
          "text": [
            "model id = 485602029\n",
            "\n"
          ]
        },
        {
          "output_type": "execute_result",
          "data": {
            "text/plain": [
              "[{'id': 485602029,\n",
              "  'name': 'Biophysical - perisomatic_Pvalb-IRES-Cre;Ai14-201791.05.01.01',\n",
              "  'neuron_reconstruction_id': 496079599,\n",
              "  'neuronal_model_template_id': 329230710,\n",
              "  'specimen_id': 484635029},\n",
              " {'id': 496538965,\n",
              "  'name': 'Biophysical - all active_Pvalb-IRES-Cre;Ai14-201791.05.01.01',\n",
              "  'neuron_reconstruction_id': 496079599,\n",
              "  'neuronal_model_template_id': 491455321,\n",
              "  'specimen_id': 484635029}]"
            ]
          },
          "metadata": {},
          "execution_count": 8
        }
      ]
    },
    {
      "cell_type": "code",
      "source": [
        "# Download the cell\n",
        "bp.cache_stimulus = False # Change to False to not download the large stimulus NWB file\n",
        "bp.cache_data(model_id, working_directory = work_dir )\n",
        "os.chdir(work_dir)"
      ],
      "metadata": {
        "collapsed": true,
        "id": "QpHxmwLOMwld"
      },
      "execution_count": null,
      "outputs": []
    },
    {
      "cell_type": "markdown",
      "metadata": {
        "id": "y2VH-bGEdn8T"
      },
      "source": [
        "## Build the cell"
      ]
    },
    {
      "cell_type": "markdown",
      "source": [
        "add vecstim, cpampain.mod,NMDAIN.mod from https://github.com/yzerlaut/pv-sst-dendrites/tree/main/detailed_model and compile"
      ],
      "metadata": {
        "id": "k3-9FwQCZMw7"
      }
    },
    {
      "cell_type": "markdown",
      "source": [
        "if you need additonal modfiles from a public repo, provide a list of the names of the modfiles and a link to the folder"
      ],
      "metadata": {
        "id": "z-FWSb9QRFsS"
      }
    },
    {
      "cell_type": "code",
      "source": [
        "import requests\n",
        "path = \"https://raw.githubusercontent.com/yzerlaut/pv-sst-dendrites/main/detailed_model/mechanisms\"\n",
        "filenames = ['NMDAIN.mod','vecstim.mod','cpampain.mod', 'gabaain.mod']\n",
        "\n",
        "for filename in filenames:\n",
        "\n",
        "  url = os.path.join(path,filename)\n",
        "  response = requests.get(url)\n",
        "\n",
        "  if response.status_code == 200:\n",
        "      with open(os.path.join('modfiles',filename), 'w') as f:#assuming you are in work_dir and the mechanisms are in a folder called 'modflies'\n",
        "          f.write(response.text)\n",
        "  else:\n",
        "      print(f\"Failed to download file: {response.status_code}\")"
      ],
      "metadata": {
        "id": "T2LCXf7LRETV"
      },
      "execution_count": 8,
      "outputs": []
    },
    {
      "cell_type": "code",
      "source": [],
      "metadata": {
        "id": "qQ_fOCOr5D-Q"
      },
      "execution_count": null,
      "outputs": []
    },
    {
      "cell_type": "code",
      "source": [
        "# Compile the modfiles\n",
        "\n",
        "!nrnivmodl modfiles > /dev/null 2>&1"
      ],
      "metadata": {
        "id": "4AnfVUXO8MXO"
      },
      "execution_count": 137,
      "outputs": []
    },
    {
      "cell_type": "code",
      "source": [
        "import sys, os\n",
        "from functools import wraps\n",
        "\n",
        "def suppress_output(fn):\n",
        "    @wraps(fn)\n",
        "    def wrapper(*args, **kwargs):\n",
        "        devnull = open(os.devnull, 'w')\n",
        "        old_stdout, old_stderr = sys.stdout, sys.stderr\n",
        "        sys.stdout = sys.stderr = devnull\n",
        "        try:\n",
        "            return fn(*args, **kwargs)\n",
        "        finally:\n",
        "            sys.stdout, sys.stderr = old_stdout, old_stderr\n",
        "            devnull.close()\n",
        "    return wrapper"
      ],
      "metadata": {
        "id": "Y17foN45FNMK"
      },
      "execution_count": 11,
      "outputs": []
    },
    {
      "cell_type": "markdown",
      "metadata": {
        "id": "pGmLIqlFdn8T"
      },
      "source": [
        "**NOTE:** Control the soma area in the `build_cell` function below."
      ]
    },
    {
      "cell_type": "code",
      "execution_count": 12,
      "metadata": {
        "id": "c_uh5-8Jdn8U"
      },
      "outputs": [],
      "source": [
        "@suppress_output\n",
        "def build_cell(soma_diam_multiplier = 1,using_hoc=False,hoc_filename=None,cell_name=None):\n",
        "\n",
        "    if using_hoc:\n",
        "      from neuron import h\n",
        "      h.load_file(hoc_filename)\n",
        "      return getattr(h, cell_name)()\n",
        "    # Create the h object\n",
        "    description = Config().load('manifest.json')\n",
        "    utils = Utils(description)\n",
        "    h = utils.h\n",
        "    # Convert all \"value\" attributes to floats\n",
        "    for dict in utils.description.data['genome']:\n",
        "        for key, value in dict.items():\n",
        "            if key == 'value': dict[key] = float(value)\n",
        "    # Configure morphology\n",
        "    morphology_path = description.manifest.get_path('MORPHOLOGY')\n",
        "    utils.generate_morphology(morphology_path.encode('ascii', 'ignore'))\n",
        "    utils.load_cell_parameters()\n",
        "    # To match PP\n",
        "    h.soma[0].diam = h.soma[0].diam * soma_diam_multiplier\n",
        "\n",
        "    return h\n",
        "\n",
        "def set_simulation(hoc_object,sim_params, soma_diam_multiplier = 1.0):\n",
        "    from neuron import h\n",
        "    h.load_file(\"stdrun.hoc\")\n",
        "    stim = h.IClamp(hoc_object.soma[0](0.5))\n",
        "    stim.amp = sim_params['stim_amp']\n",
        "    stim.delay = sim_params['stim_delay']\n",
        "    stim.dur = sim_params['stim_dur']\n",
        "    h.tstop = sim_params['h_tstop']\n",
        "    h.dt = sim_params['h_dt']\n",
        "    # h.steps_per_ms = 1 / h.dt\n",
        "    return h, stim"
      ]
    },
    {
      "cell_type": "code",
      "source": [
        "\n",
        "soma_diam_multiplier = 1\n",
        "hobject = build_cell(soma_diam_multiplier)\n",
        "#hobject = build_cell(soma_diam_multiplier,using_hoc=True,'HYPO_TEMPLATE.hoc','HYPO')"
      ],
      "metadata": {
        "id": "qRbAPN3zDZkD"
      },
      "execution_count": 44,
      "outputs": []
    },
    {
      "cell_type": "code",
      "source": [
        "# for sec in hobject.allsec():\n",
        "#     print(f\"Section: {sec.name()}\")\n",
        "#     psec = sec.psection()\n",
        "#     [print(name) for name in psec['density_mechs']]\n",
        "\n"
      ],
      "metadata": {
        "collapsed": true,
        "id": "rYkfBWaIhMY6"
      },
      "execution_count": 13,
      "outputs": []
    },
    {
      "cell_type": "markdown",
      "source": [
        "#Morphology"
      ],
      "metadata": {
        "id": "0YCmob0LSdVP"
      }
    },
    {
      "cell_type": "code",
      "source": [
        "print(f\"Soma area: {hobject.soma[0](0.5).area()}\")\n",
        "print(f\"Soma diam: {hobject.soma[0].diam}\")\n",
        "print(f\"Soma L: {hobject.soma[0].L}\")"
      ],
      "metadata": {
        "colab": {
          "base_uri": "https://localhost:8080/"
        },
        "id": "rUgKdauIQ_VL",
        "outputId": "51bccb5f-457a-4fc8-b78a-a2dd6cb07c78"
      },
      "execution_count": 45,
      "outputs": [
        {
          "output_type": "stream",
          "name": "stdout",
          "text": [
            "Soma area: 669.646002883916\n",
            "Soma diam: 14.599800109863281\n",
            "Soma L: 14.599853515625\n"
          ]
        }
      ]
    },
    {
      "cell_type": "markdown",
      "metadata": {
        "id": "XMdDg3asdn8U"
      },
      "source": [
        "## Passive properties"
      ]
    },
    {
      "cell_type": "code",
      "source": [
        "hobject.soma[0](0.5).area()"
      ],
      "metadata": {
        "id": "e726h3wT-KIA",
        "outputId": "89df20d9-f795-488c-c0e1-fcf397fa96eb",
        "colab": {
          "base_uri": "https://localhost:8080/"
        }
      },
      "execution_count": 43,
      "outputs": [
        {
          "output_type": "execute_result",
          "data": {
            "text/plain": [
              "669.646002883916"
            ]
          },
          "metadata": {},
          "execution_count": 43
        }
      ]
    },
    {
      "cell_type": "code",
      "source": [
        "# Soma area from the previous cell\n",
        "computed_soma_area = hobject.soma[0](0.5).area() * 1e-8 #(cm2)\n",
        "# User-provided desired properties\n",
        "user_provided_Rin = 99 * 10e6 # (to Ohm from MOhm)\n",
        "user_provided_tau = 5.9 * 1e-3 # (to s from ms)\n",
        "user_provided_Vrest = -71 # (mV)\n",
        "spps = ACTPassiveModule.compute_spp(user_provided_Rin, computed_soma_area, user_provided_tau, user_provided_Vrest)\n",
        "print(spps)"
      ],
      "metadata": {
        "colab": {
          "base_uri": "https://localhost:8080/"
        },
        "id": "uGyQD1ijSYvf",
        "outputId": "88377ba0-57f4-4642-a74f-6e7bfef584c4"
      },
      "execution_count": 40,
      "outputs": [
        {
          "output_type": "stream",
          "name": "stdout",
          "text": [
            "SettablePassiveProperties(Cm=0.889962149244556, g_bar_leak=0.00015084104224483998, e_rev_leak=-71, g_bar_h=None)\n"
          ]
        }
      ]
    },
    {
      "cell_type": "markdown",
      "source": [
        "#programmatically change the json or change manually"
      ],
      "metadata": {
        "id": "UFTjqR9utamA"
      }
    },
    {
      "cell_type": "markdown",
      "source": [
        "if using a hoc file, there is no _fit.json so ignore this section"
      ],
      "metadata": {
        "id": "e1GMk-DLzLM-"
      }
    },
    {
      "cell_type": "code",
      "source": [
        "### Change gpas, cm, e_pas\n",
        "\n",
        "import json\n",
        "\n",
        "for item in os.listdir():\n",
        "  if item.endswith('_fit.json'):\n",
        "    config_filename = item\n",
        "    print(config_filename)\n",
        "\n",
        "with open(os.path.join(config_filename),'r') as file:\n",
        "    data = json.load(file)\n",
        "\n",
        "#save the original data\n",
        "original_fit = {\n",
        "                'cm':None,\n",
        "                'g_pas':None,\n",
        "                'e_pas':None\n",
        "                }\n",
        "# data in the passive section\n",
        "for item in data['passive'][0]['cm']:\n",
        "  original_fit['cm'] = item['cm']\n",
        "\n",
        "original_fit['e_pas'] = data['passive'][0]['e_pas']\n",
        "\n",
        "\n",
        "# data in the active \"genome\" section\n",
        "for item in data['genome']:\n",
        "\n",
        "  if item['name'] == 'g_pas':\n",
        "    original_fit['g_pas'] = item['value']\n",
        "\n",
        "  if item['name'] == 'cm':\n",
        "    original_fit['cm'] = item['value']\n",
        "\n",
        "\n",
        "#set new parameters\n",
        "new_fit = {\n",
        "            'cm':spps.Cm,\n",
        "            'g_pas':spps.g_bar_leak,\n",
        "            'e_pas':spps.e_rev_leak\n",
        "            }\n"
      ],
      "metadata": {
        "colab": {
          "base_uri": "https://localhost:8080/"
        },
        "id": "s9qpHN6zT4Ne",
        "outputId": "ea96c705-6217-41a1-b1ba-6b9a20ce38b4"
      },
      "execution_count": 43,
      "outputs": [
        {
          "output_type": "stream",
          "name": "stdout",
          "text": [
            "476686112_fit.json\n"
          ]
        }
      ]
    },
    {
      "cell_type": "markdown",
      "source": [
        "choose the spp numbers or the original"
      ],
      "metadata": {
        "id": "k-UZbQ75ti2i"
      }
    },
    {
      "cell_type": "code",
      "source": [
        "\n",
        "#choose new_fit or original_fit for the _fit.json file\n",
        "###############################\n",
        "chosen_fit = original_fit\n",
        "###############################\n",
        "for item in data['passive'][0]['cm']:\n",
        "  item['cm'] = chosen_fit['cm']\n",
        "\n",
        "data['passive'][0]['e_pas'] = chosen_fit['e_pas']\n",
        "\n",
        "for item in data['genome']:\n",
        "\n",
        "  if item['name'] == 'g_pas':\n",
        "    item['value'] = chosen_fit['g_pas']\n",
        "\n",
        "  if item['name'] == 'cm':\n",
        "    item['value'] = chosen_fit['cm']\n",
        "\n",
        "with open(config_filename, 'w') as file:\n",
        "    json.dump(data, file, indent=4)"
      ],
      "metadata": {
        "id": "viIIw23EtQOm"
      },
      "execution_count": 44,
      "outputs": []
    },
    {
      "cell_type": "markdown",
      "source": [
        "#set simulation parameters"
      ],
      "metadata": {
        "id": "HsQ9GzT2bZTY"
      }
    },
    {
      "cell_type": "code",
      "source": [
        "sim_params = {\n",
        "                'stim_amp': -0.1,\n",
        "                'stim_delay': 300,\n",
        "                'stim_dur': 1000,\n",
        "                'h_tstop': 1500,\n",
        "                'h_dt': 0.025\n",
        "                }\n"
      ],
      "metadata": {
        "id": "y4mGz8rlXinq"
      },
      "execution_count": 27,
      "outputs": []
    },
    {
      "cell_type": "markdown",
      "source": [
        "#run the simulation"
      ],
      "metadata": {
        "id": "t8v1LD7tiyRV"
      }
    },
    {
      "cell_type": "code",
      "source": [
        "def count_voltage_events(t, v):\n",
        "    \"\"\"\n",
        "    Counts the number of times the voltage goes above -20 mV and the slope changes from positive to negative.\n",
        "\n",
        "    Args:\n",
        "        t: A NumPy array of time points.\n",
        "        v: A NumPy array of voltage values.\n",
        "\n",
        "    Returns:\n",
        "        The number of events.\n",
        "    \"\"\"\n",
        "\n",
        "    # Calculate the slope of the voltage\n",
        "    slope = np.diff(v)\n",
        "\n",
        "    # Find the indices where the voltage is above -20 mV\n",
        "    above_threshold_indices = np.where(v[:-1] > -20)[0]\n",
        "\n",
        "    # Find the indices where the slope changes from positive to negative\n",
        "    positive_to_negative_indices = np.where((slope[:-1] > 0) & (slope[1:] < 0))[0]\n",
        "\n",
        "    # Find the intersection of the two sets of indices\n",
        "    event_indices = np.intersect1d(above_threshold_indices, positive_to_negative_indices)\n",
        "\n",
        "    return len(event_indices)"
      ],
      "metadata": {
        "id": "IXX03NxhIGrX"
      },
      "execution_count": 153,
      "outputs": []
    },
    {
      "cell_type": "code",
      "source": [
        "#function to get the start and end index of the stim but in the voltage file\n",
        "def get_start_end_idx(sim_params):\n",
        "  start_idx = int(sim_params['stim_delay']/sim_params['h_dt'])\n",
        "  end_idx = int(sim_params['stim_dur']/sim_params['h_dt'])\n",
        "  return start_idx, end_idx"
      ],
      "metadata": {
        "id": "5IDAmS5nLb3f"
      },
      "execution_count": 154,
      "outputs": []
    },
    {
      "cell_type": "code",
      "source": [
        "#function to calculate the frequency of a voltage trace\n",
        "def get_frequency(v,sim_params):\n",
        "\n",
        "  start_idx,end_idx = get_start_end_idx(sim_params)\n",
        "  spikes = count_voltage_events(np.arange(len(v.as_numpy()))[start_idx:end_idx], v.as_numpy()[start_idx:end_idx])\n",
        "\n",
        "  if spikes> 0:\n",
        "    duration_sec = sim_params['stim_dur'] / 1000.0\n",
        "    freq = spikes / duration_sec\n",
        "    return freq\n",
        "\n",
        "  else:\n",
        "    return 0"
      ],
      "metadata": {
        "id": "PQQAvRE3zvnc"
      },
      "execution_count": 155,
      "outputs": []
    },
    {
      "cell_type": "code",
      "source": [
        "#modify simulation parameters if needed\n",
        "sim_params['stim_amp'] = -0.1\n",
        "\n",
        "#rebuild the cell to make sure the set_simulation() is using the correct hobj\n",
        "#if using hoc call with the hoc filename and cell name\n",
        "\n",
        "soma_diam_multiplier = 2\n",
        "hobject = build_cell(soma_diam_multiplier)\n",
        "#hobject = build_cell(soma_diam_multiplier,using_hoc=True,'HYPO_TEMPLATE.hoc','HYPO')\n",
        "\n",
        "# run the simulation\n",
        "h, stim = set_simulation(hobject,sim_params)\n",
        "v = h.Vector().record(hobject.soma[0](0.5)._ref_v)\n",
        "h.finitialize()\n",
        "h.run()\n",
        "\n",
        "#plot the result and display spike frequency\n",
        "V = v.as_numpy()\n",
        "T = np.arange(0,h.tstop+h.dt,h.dt)\n",
        "plt.plot(T,V)\n",
        "plt.title(f\"Vm at {sim_params['stim_amp']} nA\")\n",
        "plt.show()\n",
        "\n",
        "print(f\"spike frequency = {get_frequency(v,sim_params):.2f} Hz\")"
      ],
      "metadata": {
        "colab": {
          "base_uri": "https://localhost:8080/",
          "height": 470
        },
        "id": "OzknfkcOWJ8r",
        "outputId": "5c327bc2-31ed-4a26-b5fa-d782ea2ab657"
      },
      "execution_count": 200,
      "outputs": [
        {
          "output_type": "display_data",
          "data": {
            "text/plain": [
              "<Figure size 640x480 with 1 Axes>"
            ],
            "image/png": "[encoded data removed]"
          },
          "metadata": {}
        },
        {
          "output_type": "stream",
          "name": "stdout",
          "text": [
            "spike frequency = 0.00 Hz\n"
          ]
        }
      ]
    },
    {
      "cell_type": "code",
      "execution_count": 201,
      "metadata": {
        "id": "LghqBV23dn8V",
        "outputId": "1364cfc4-d58b-4a0a-e255-25a47a353e65",
        "colab": {
          "base_uri": "https://localhost:8080/"
        }
      },
      "outputs": [
        {
          "output_type": "stream",
          "name": "stdout",
          "text": [
            "GettablePassiveProperties(R_in=106.11604834813022, tau1=5.300000000000001, tau2=42.25, sag_ratio=0.15456737525698636, V_rest=-69.59996919923078)\n"
          ]
        }
      ],
      "source": [
        "#find Rin, tau, sag ratio, and Vrest\n",
        "\n",
        "print(ACTPassiveModule.compute_gpp(v.as_numpy(), h.dt, sim_params['stim_delay'], 1295, sim_params['stim_amp']))\n",
        "# print(f\"V-rest: {v.as_numpy()[sim_params['stim_dur']]}\")"
      ]
    },
    {
      "cell_type": "markdown",
      "metadata": {
        "id": "bXj_B2M4dn8V"
      },
      "source": [
        "## FI-Curve"
      ]
    },
    {
      "cell_type": "code",
      "execution_count": 202,
      "metadata": {
        "id": "fx2SSTC5dn8W"
      },
      "outputs": [],
      "source": [
        "#test the cell at multiple frequencies to get an FI curve\n",
        "\n",
        "frequenies = []\n",
        "amps = [-0.1, -0.05, 0, 0.05, 0.1, 0.15, 0.2, 0.25, 0.3]\n",
        "\n",
        "\n",
        "for amp in amps:\n",
        "  #if using hoc call with the hoc filename and cell name\n",
        "    hobject = build_cell(soma_diam_multiplier)\n",
        "    #hobject = build_cell(soma_diam_multiplier,using_hoc=True,'HYPO_TEMPLATE.hoc','HYPO')\n",
        "\n",
        "    sim_params['stim_amp'] = amp\n",
        "    h, stim = set_simulation(hobject,sim_params)\n",
        "    v = h.Vector().record(hobject.soma[0](0.5)._ref_v)\n",
        "    h.finitialize()\n",
        "    h.run()\n",
        "    frequenies.append(get_frequency(v,sim_params))\n"
      ]
    },
    {
      "cell_type": "code",
      "execution_count": 203,
      "metadata": {
        "id": "NgMVPPg3dn8W",
        "outputId": "3c0c83da-0583-4fa3-dc1e-08614fcb0cf0",
        "colab": {
          "base_uri": "https://localhost:8080/"
        }
      },
      "outputs": [
        {
          "output_type": "stream",
          "name": "stdout",
          "text": [
            "-0.1: 0\n",
            "-0.05: 0\n",
            "0: 0\n",
            "0.05: 0\n",
            "0.1: 1.0\n",
            "0.15: 1.0\n",
            "0.2: 1.0\n",
            "0.25: 1.0\n",
            "0.3: 1.0\n"
          ]
        }
      ],
      "source": [
        "for a, f in zip(amps, frequenies):\n",
        "    print(f\"{a}: {f}\")"
      ]
    },
    {
      "cell_type": "code",
      "execution_count": 191,
      "metadata": {
        "id": "6Ur37iRedn8W",
        "outputId": "f1f70e80-4d28-47a8-dd0b-34f348cca55d",
        "colab": {
          "base_uri": "https://localhost:8080/",
          "height": 472
        }
      },
      "outputs": [
        {
          "output_type": "display_data",
          "data": {
            "text/plain": [
              "<Figure size 640x480 with 1 Axes>"
            ],
            "image/png": "[encoded data removed]"
          },
          "metadata": {}
        }
      ],
      "source": [
        "\n",
        "plt.plot(amps, frequenies)\n",
        "plt.title(\"FI CURVE for SST cell 476686112\")\n",
        "plt.xlabel(\"Stimulus Amplitude (nA)\")\n",
        "plt.ylabel(\"Frequency (Hz)\")\n",
        "plt.show()"
      ]
    },
    {
      "cell_type": "markdown",
      "source": [
        "# Find prox and dist synapse sites"
      ],
      "metadata": {
        "id": "kTvSU2tIwydv"
      }
    },
    {
      "cell_type": "code",
      "source": [
        "proximal_region = [20, 60]#um\n",
        "distal_region = [160,200]"
      ],
      "metadata": {
        "id": "xkOsYYF8w3Oq"
      },
      "execution_count": 27,
      "outputs": []
    },
    {
      "cell_type": "code",
      "source": [
        "hobject = build_cell(soma_diam_multiplier)"
      ],
      "metadata": {
        "id": "mvMP32qSw3Rh"
      },
      "execution_count": 28,
      "outputs": []
    },
    {
      "cell_type": "code",
      "source": [
        "h.distance(0, 0.5, sec=hobject.soma[0])\n",
        "obj = hobject.dend[32]\n",
        "dist = h.distance(obj(0.5))\n",
        "\n",
        "print(f\"{dist:.2f} µm\")\n",
        "print(obj.L)\n",
        "print(hobject.dend[45].nseg)"
      ],
      "metadata": {
        "colab": {
          "base_uri": "https://localhost:8080/"
        },
        "id": "061EZDaIw3XV",
        "outputId": "e5f4ec01-4e72-4e65-82b0-d4573d602b28"
      },
      "execution_count": 232,
      "outputs": [
        {
          "output_type": "stream",
          "name": "stdout",
          "text": [
            "54.07 µm\n",
            "87.90002742687342\n",
            "5\n"
          ]
        }
      ]
    },
    {
      "cell_type": "code",
      "source": [
        "# find the first segment in a branch that is in the prox range, then do the same for distal\n",
        "#dict key is the sec name, the fields are the segment location, the distance from the soma to that seg, and the length of the section\n",
        "h.distance(0, 0.5, sec=hobject.soma[0])\n",
        "\n",
        "proximal_dict = {}\n",
        "distal_dict = {}\n",
        "\n",
        "for child_sec in hobject.soma[0].children():\n",
        "    key = 0\n",
        "    for sec in child_sec.subtree():\n",
        "        for seg in sec:\n",
        "          #because h.distance() returns distance to the section not the segment, and we\n",
        "          #assume identical lengths for the segments, to location of the segment's\n",
        "          #proximal end is h.distance + numseg * seglength\n",
        "\n",
        "            dist = h.distance(sec(0)) + seg.x * sec.L\n",
        "\n",
        "            data = {\n",
        "                \"root\" :child_sec.name(),\n",
        "                \"sec\": sec.name(),\n",
        "                \"seg\": round(seg.x,2),\n",
        "                \"dist\": round(dist,2),\n",
        "                \"L\": round(sec.L,2)\n",
        "                }\n",
        "\n",
        "            key += 1\n",
        "\n",
        "            if proximal_region[0] <= dist <= proximal_region[1]:\n",
        "\n",
        "               proximal_dict[key]  = data\n",
        "\n",
        "\n",
        "            if distal_region[0] <= dist <= distal_region[1]:\n",
        "\n",
        "                distal_dict[key] = data\n",
        "\n"
      ],
      "metadata": {
        "id": "M44juJxq5RLQ"
      },
      "execution_count": 28,
      "outputs": []
    },
    {
      "cell_type": "code",
      "source": [
        "for key in proximal_dict:\n",
        "  print(proximal_dict[key])"
      ],
      "metadata": {
        "colab": {
          "base_uri": "https://localhost:8080/"
        },
        "id": "jcB9ilCiqJRB",
        "outputId": "dda4ce9b-1888-415a-d753-e4cb61c963a1"
      },
      "execution_count": 29,
      "outputs": [
        {
          "output_type": "stream",
          "name": "stdout",
          "text": [
            "{'root': 'dend[0]', 'sec': 'dend[2]', 'seg': 0.5, 'dist': 38.23, 'L': 17.69}\n",
            "{'root': 'dend[5]', 'sec': 'dend[5]', 'seg': 0.83, 'dist': 45.66, 'L': 54.79}\n",
            "{'root': 'dend[0]', 'sec': 'dend[3]', 'seg': 0.17, 'dist': 57.75, 'L': 64.08}\n",
            "{'root': 'dend[40]', 'sec': 'dend[49]', 'seg': 0.5, 'dist': 47.76, 'L': 28.88}\n",
            "{'root': 'dend[9]', 'sec': 'dend[14]', 'seg': 0.1, 'dist': 39.75, 'L': 83.47}\n",
            "{'root': 'dend[40]', 'sec': 'dend[42]', 'seg': 0.5, 'dist': 30.34, 'L': 9.75}\n",
            "{'root': 'dend[27]', 'sec': 'dend[36]', 'seg': 0.1, 'dist': 38.23, 'L': 82.77}\n",
            "{'root': 'dend[27]', 'sec': 'dend[36]', 'seg': 0.3, 'dist': 54.79, 'L': 82.77}\n",
            "{'root': 'dend[9]', 'sec': 'dend[14]', 'seg': 0.3, 'dist': 56.44, 'L': 83.47}\n",
            "{'root': 'dend[27]', 'sec': 'dend[32]', 'seg': 0.5, 'dist': 54.07, 'L': 87.9}\n",
            "{'root': 'dend[27]', 'sec': 'dend[30]', 'seg': 0.5, 'dist': 39.63, 'L': 34.3}\n",
            "{'root': 'dend[27]', 'sec': 'dend[29]', 'seg': 0.1, 'dist': 33.8, 'L': 113.12}\n",
            "{'root': 'dend[27]', 'sec': 'dend[29]', 'seg': 0.3, 'dist': 56.42, 'L': 113.12}\n",
            "{'root': 'dend[9]', 'sec': 'dend[10]', 'seg': 0.17, 'dist': 37.24, 'L': 57.99}\n",
            "{'root': 'dend[9]', 'sec': 'dend[10]', 'seg': 0.5, 'dist': 56.57, 'L': 57.99}\n",
            "{'root': 'dend[0]', 'sec': 'dend[1]', 'seg': 0.5, 'dist': 43.19, 'L': 27.61}\n"
          ]
        }
      ]
    },
    {
      "cell_type": "code",
      "source": [
        "for key in distal_dict:\n",
        "  print(distal_dict[key])"
      ],
      "metadata": {
        "colab": {
          "base_uri": "https://localhost:8080/"
        },
        "id": "uEyL5fgoqMce",
        "outputId": "1a52f563-244f-4262-9a93-dfa89e7d84b5"
      },
      "execution_count": 30,
      "outputs": [
        {
          "output_type": "stream",
          "name": "stdout",
          "text": [
            "{'root': 'dend[40]', 'sec': 'dend[45]', 'seg': 0.7, 'dist': 164.95, 'L': 84.01}\n",
            "{'root': 'dend[27]', 'sec': 'dend[33]', 'seg': 0.64, 'dist': 177.19, 'L': 123.16}\n",
            "{'root': 'dend[27]', 'sec': 'dend[33]', 'seg': 0.79, 'dist': 194.79, 'L': 123.16}\n",
            "{'root': 'dend[22]', 'sec': 'dend[23]', 'seg': 0.9, 'dist': 169.64, 'L': 80.26}\n",
            "{'root': 'dend[9]', 'sec': 'dend[21]', 'seg': 0.83, 'dist': 166.56, 'L': 59.56}\n",
            "{'root': 'dend[9]', 'sec': 'dend[15]', 'seg': 0.83, 'dist': 175.86, 'L': 73.18}\n"
          ]
        }
      ]
    },
    {
      "cell_type": "code",
      "source": [
        "# use 32 and 33 for proximal and distal"
      ],
      "metadata": {
        "id": "lF5EpqrDHQBp"
      },
      "execution_count": 264,
      "outputs": []
    },
    {
      "cell_type": "code",
      "source": [
        "common = []\n",
        "\n",
        "for key in proximal_dict:\n",
        "  root = proximal_dict[key]['root']\n",
        "  for item in distal_dict:\n",
        "    if distal_dict[item]['root'] == root:\n",
        "      common.append(root)\n",
        "\n",
        "common = list(set(common))\n",
        ""
      ],
      "metadata": {
        "id": "NZLmiSRO99_W"
      },
      "execution_count": 31,
      "outputs": []
    },
    {
      "cell_type": "code",
      "source": [
        "print(f\"roots of the dendrites that cover both the proximal and distal regions:\\n\\t {common}\")"
      ],
      "metadata": {
        "colab": {
          "base_uri": "https://localhost:8080/"
        },
        "id": "urU5OsNvBcMX",
        "outputId": "b9a75bac-33a5-4402-93e2-9dd37bfed4e5"
      },
      "execution_count": 32,
      "outputs": [
        {
          "output_type": "stream",
          "name": "stdout",
          "text": [
            "roots of the dendrites that cover both the proximal and distal regions:\n",
            "\t ['dend[27]', 'dend[40]', 'dend[9]']\n"
          ]
        }
      ]
    },
    {
      "cell_type": "code",
      "source": [
        "key = 0\n",
        "print(\"proximal\")\n",
        "\n",
        "commonproxdict = {}\n",
        "for key in proximal_dict:\n",
        "  if proximal_dict[key]['root'] == common[0]:\n",
        "    print(proximal_dict[key])\n",
        "    commonproxdict.update({key:proximal_dict[key]})\n",
        "\n",
        "    # print(f\"{proximal_dict[key]['sec']}({proximal_dict[key]['seg']})\")\n",
        "\n",
        "print(\"distal:\")\n",
        "commondistaldict = {}\n",
        "for key in distal_dict:\n",
        "  if distal_dict[key]['root'] == common[0]:\n",
        "    print(distal_dict[key])\n",
        "    commondistaldict.update({key:distal_dict[key]})\n"
      ],
      "metadata": {
        "colab": {
          "base_uri": "https://localhost:8080/"
        },
        "id": "dWyQ5ssrCkCP",
        "outputId": "6a60aefe-c715-42db-9d07-62ff062ddf22"
      },
      "execution_count": 33,
      "outputs": [
        {
          "output_type": "stream",
          "name": "stdout",
          "text": [
            "proximal\n",
            "{'root': 'dend[27]', 'sec': 'dend[36]', 'seg': 0.1, 'dist': 38.23, 'L': 82.77}\n",
            "{'root': 'dend[27]', 'sec': 'dend[36]', 'seg': 0.3, 'dist': 54.79, 'L': 82.77}\n",
            "{'root': 'dend[27]', 'sec': 'dend[32]', 'seg': 0.5, 'dist': 54.07, 'L': 87.9}\n",
            "{'root': 'dend[27]', 'sec': 'dend[30]', 'seg': 0.5, 'dist': 39.63, 'L': 34.3}\n",
            "{'root': 'dend[27]', 'sec': 'dend[29]', 'seg': 0.1, 'dist': 33.8, 'L': 113.12}\n",
            "{'root': 'dend[27]', 'sec': 'dend[29]', 'seg': 0.3, 'dist': 56.42, 'L': 113.12}\n",
            "distal:\n",
            "{'root': 'dend[27]', 'sec': 'dend[33]', 'seg': 0.64, 'dist': 177.19, 'L': 123.16}\n",
            "{'root': 'dend[27]', 'sec': 'dend[33]', 'seg': 0.79, 'dist': 194.79, 'L': 123.16}\n"
          ]
        }
      ]
    },
    {
      "cell_type": "code",
      "source": [
        "#SST\n",
        "#proximal\n",
        "#according to the linear density plot in figure 3 I\n",
        "# 2 syns / um\n",
        "\n",
        "\n",
        "#distal\n",
        "#"
      ],
      "metadata": {
        "id": "4hV6ngcESdvL"
      },
      "execution_count": null,
      "outputs": []
    },
    {
      "cell_type": "code",
      "source": [],
      "metadata": {
        "colab": {
          "base_uri": "https://localhost:8080/"
        },
        "id": "ZNvvrYIVSy37",
        "outputId": "f6472c8f-db1c-444c-d97e-14ac3a7b4885"
      },
      "execution_count": 32,
      "outputs": [
        {
          "output_type": "execute_result",
          "data": {
            "text/plain": [
              "3"
            ]
          },
          "metadata": {},
          "execution_count": 32
        }
      ]
    },
    {
      "cell_type": "code",
      "source": [
        "# h.distance(0, 0.5, sec=hobject.soma[0])\n",
        "# for child in hobject.soma[0].children():\n",
        "#   for child_sec in child.subtree():\n",
        "#     print(f\"child = {child}, {h.distance(child_sec(0))}\")"
      ],
      "metadata": {
        "id": "iykweYlCJdcN"
      },
      "execution_count": 55,
      "outputs": []
    },
    {
      "cell_type": "code",
      "source": [
        "# h.topology()"
      ],
      "metadata": {
        "id": "wREbWajK_Gse"
      },
      "execution_count": 254,
      "outputs": []
    },
    {
      "cell_type": "code",
      "source": [],
      "metadata": {
        "id": "IV821_CZNy1N"
      },
      "execution_count": null,
      "outputs": []
    },
    {
      "cell_type": "markdown",
      "source": [
        "Test add synapses"
      ],
      "metadata": {
        "id": "SlmOnRncNzZj"
      }
    },
    {
      "cell_type": "code",
      "source": [
        "from neuron import h\n",
        "h.load_file(\"stdrun.hoc\")  # Required to use h.run()"
      ],
      "metadata": {
        "colab": {
          "base_uri": "https://localhost:8080/"
        },
        "id": "UH97nWg8N56j",
        "outputId": "9c5f29c6-443e-420e-aa6f-75f8f012d64c"
      },
      "execution_count": 9,
      "outputs": [
        {
          "output_type": "execute_result",
          "data": {
            "text/plain": [
              "1.0"
            ]
          },
          "metadata": {},
          "execution_count": 9
        }
      ]
    },
    {
      "cell_type": "code",
      "source": [
        "def run(h):\n",
        "\n",
        "  nmda = h.CPGLUIN(0.5,h.dend[32])\n",
        "  vecstim = h.VecStim()\n",
        "  times = h.Vector([500])\n",
        "  vecstim.play(times)\n",
        "  rec_times = h.Vector()\n",
        "  nc = h.NetCon(vecstim, None)  # No target, just record events\n",
        "  nc.record(rec_times)\n",
        "  nmdaNetCON = h.NetCon(vecstim,nmda)\n",
        "  nmdaNetCON.weight[0] = 0.0001\n",
        "\n",
        "  v = h.Vector().record(h.dend[32](0.5)._ref_v)\n",
        "  i  = h.Vector().record(nmda._ref_iglu)\n",
        "  h.finitialize()\n",
        "  h.dt=0.025\n",
        "  h.tstop = 1000\n",
        "  h.run()\n",
        "  return v,rec_times,times,i"
      ],
      "metadata": {
        "id": "X-eFUu1sN0uS"
      },
      "execution_count": 10,
      "outputs": []
    },
    {
      "cell_type": "code",
      "source": [
        "def run(h):\n",
        "\n",
        "  ampa = h.CPGLUIN(0.5,h.dend[32])\n",
        "  vecstim = h.VecStim()\n",
        "  times = h.Vector([500])\n",
        "  vecstim.play(times)\n",
        "  rec_times = h.Vector()\n",
        "  nc = h.NetCon(vecstim, None)  # No target, just record events\n",
        "  nc.record(rec_times)\n",
        "  ampaNetCON = h.NetCon(vecstim,ampa)\n",
        "  ampaNetCON.weight[0] = 0.0001\n",
        "\n",
        "  v = h.Vector().record(h.dend[32](0.5)._ref_v)\n",
        "  i  = h.Vector().record(ampa._ref_iglu)\n",
        "  h.finitialize()\n",
        "  h.dt=0.025\n",
        "  h.tstop = 1000\n",
        "  h.run()\n",
        "  return v,rec_times,times,i"
      ],
      "metadata": {
        "id": "HFsR0XqcSEYM"
      },
      "execution_count": 13,
      "outputs": []
    },
    {
      "cell_type": "code",
      "source": [
        "h = build_cell(1)#redifine/add ? to h so as to avoid run() conflict?\n",
        "v,nc,times,i = run(h)"
      ],
      "metadata": {
        "id": "gyFXdmejN3cP"
      },
      "execution_count": 14,
      "outputs": []
    },
    {
      "cell_type": "code",
      "source": [
        "start, end = 20000,21000\n",
        "\n",
        "V = v.as_numpy()\n",
        "times = np.arange(0,1000.025,0.025)\n",
        "plt.plot(times[start:end],V[start:end])"
      ],
      "metadata": {
        "colab": {
          "base_uri": "https://localhost:8080/",
          "height": 449
        },
        "id": "3dJOBF5MOlZv",
        "outputId": "733abd50-d349-42d0-c7e4-ef2dd13b0e6c"
      },
      "execution_count": 15,
      "outputs": [
        {
          "output_type": "execute_result",
          "data": {
            "text/plain": [
              "[<matplotlib.lines.Line2D at 0x7ce4a0356010>]"
            ]
          },
          "metadata": {},
          "execution_count": 15
        },
        {
          "output_type": "display_data",
          "data": {
            "text/plain": [
              "<Figure size 640x480 with 1 Axes>"
            ],
            "image/png": "[encoded data removed]"
          },
          "metadata": {}
        }
      ]
    },
    {
      "cell_type": "markdown",
      "source": [
        "#Add synapses"
      ],
      "metadata": {
        "id": "Z_UgXexBQHII"
      }
    },
    {
      "cell_type": "markdown",
      "source": [
        "add single synapse first"
      ],
      "metadata": {
        "id": "t9l-AIp3ROYs"
      }
    },
    {
      "cell_type": "code",
      "source": [
        "from neuron import h\n",
        "h.load_file(\"stdrun.hoc\")"
      ],
      "metadata": {
        "colab": {
          "base_uri": "https://localhost:8080/"
        },
        "id": "FNSX_89pNaYi",
        "outputId": "6ff23879-b673-42a6-8229-15a2f5a1ca9c"
      },
      "execution_count": 11,
      "outputs": [
        {
          "output_type": "execute_result",
          "data": {
            "text/plain": [
              "1.0"
            ]
          },
          "metadata": {},
          "execution_count": 11
        }
      ]
    },
    {
      "cell_type": "code",
      "source": [
        "nsyn_exc = int(40 *.04 * 2) #syns in the 40 um windows\n",
        "\n",
        "def create_syns(syn_point_proc, seg,dend_sec_no, nsyn):\n",
        "  syns =  [syn_point_proc(seg, sec=h.dend[int(dend_sec_no)]) for i in range(nsyn)]\n",
        "  return syns\n",
        "\n",
        "# h.CPGLUIN(x, sec=cell.SEGMENTS['NEURON_section'][syn]))\n",
        "def run_sim(h):\n",
        "\n",
        "  #             proximal                                          #distal\n",
        "  ampa_syns = create_syns(h.CPGLUIN,0.5,32,nsyn_exc) + create_syns(h.CPGLUIN,0.64,33,nsyn_exc)\n",
        "  nmda_syns =  create_syns(h.NMDAIN,0.5,32,nsyn_exc) + create_syns(h.NMDAIN,0.64,33,nsyn_exc)\n",
        "  # GABAS = create_syns(h.GABAain,0.5,32,1) + create_syns(h.GABAain,0.64,33,1)\n",
        "\n",
        "\n",
        "  AMPAS = []\n",
        "  NMDAS = []\n",
        "  vecstims_ampa = []\n",
        "  vecstims_nmda = []\n",
        "\n",
        "  for i in range(len(ampa_syns)):#assuming same no. ampa and nmda\n",
        "    event_times = [[100], [100.5],[101]]\n",
        "    vecstims_ampa.append(h.VecStim())\n",
        "    vecstims_ampa[0].play(h.Vector(event_times[0]))\n",
        "    ampaNetCON = h.NetCon(vecstims_ampa[i],ampa_syns[i])\n",
        "    AMPAS.append(ampaNetCON)\n",
        "\n",
        "\n",
        "    vecstims_ampa.append(h.VecStim())\n",
        "    vecstims_ampa[1].play(h.Vector(event_times[1]))\n",
        "    ampaNetCON = h.NetCon(vecstims_ampa[i],ampa_syns[i])\n",
        "    AMPAS.append(ampaNetCON)\n",
        "\n",
        "\n",
        "    vecstims_ampa.append(h.VecStim())\n",
        "    vecstims_ampa[2].play(h.Vector(event_times[2]))\n",
        "    ampaNetCON = h.NetCon(vecstims_ampa[i],ampa_syns[i])\n",
        "    AMPAS.append(ampaNetCON)\n",
        "\n",
        "\n",
        "    # vecstims_nmda.append(h.VecStim())\n",
        "    # nmdaNetCON = h.NetCon(vecstims_nmda[-1],nmda_syns[i])\n",
        "    # NMDAS.append(nmdaNetCON)\n",
        "\n",
        "\n",
        "\n",
        "\n",
        "  # vecstims_nmda[0].play(h.Vector(event_times[0]))\n",
        "  # vecstims_ampa[1].play(h.Vector(event_times[1]))\n",
        "  # vecstims_nmda[1].play(h.Vector(event_times[1]))\n",
        "  v = h.Vector().record(h.dend[32](0.5)._ref_v)\n",
        "\n",
        "\n",
        "  h.dt=0.025\n",
        "  h.tstop = 1000\n",
        "  h.finitialize(-75)\n",
        "  h.run()\n",
        "  #clear NEURON level variables so this cell can be rerun\n",
        "  V = v.as_numpy()\n",
        "\n",
        "  return V\n"
      ],
      "metadata": {
        "id": "JdX79nGhQr2Z"
      },
      "execution_count": 16,
      "outputs": []
    },
    {
      "cell_type": "code",
      "source": [
        "h = build_cell(1)\n",
        "v = run_sim(h)\n",
        "plt.plot(np.array(v))"
      ],
      "metadata": {
        "id": "It-UphhZ8c8W"
      },
      "execution_count": null,
      "outputs": []
    },
    {
      "cell_type": "code",
      "source": [],
      "metadata": {
        "id": "oqToVpT3NGYk"
      },
      "execution_count": null,
      "outputs": []
    },
    {
      "cell_type": "code",
      "source": [
        "# for sec in hobject.allsec():\n",
        "#     print(f\"Section: {sec.name()}\")\n",
        "#     psec = sec.psection()\n",
        "#     [print(name) for name in psec['point_processes']]"
      ],
      "metadata": {
        "id": "5N5KKgYaQoJa"
      },
      "execution_count": 28,
      "outputs": []
    },
    {
      "cell_type": "markdown",
      "source": [
        "# Build STIMS"
      ],
      "metadata": {
        "id": "njZ3r7zhK8lu"
      }
    },
    {
      "cell_type": "markdown",
      "source": [
        "quasi-synchronous input used to make Fig 4B 3 (no GABA)"
      ],
      "metadata": {
        "id": "__4gqUyl4T6f"
      }
    },
    {
      "cell_type": "markdown",
      "source": [
        "quasi-synchronous means syn1 is activated, then syn2 is activated 0.5ms after, and so on. they tested up to ten synapses"
      ],
      "metadata": {
        "id": "ApBIhCNTBPVV"
      }
    },
    {
      "cell_type": "code",
      "source": [
        "#prox\n"
      ],
      "metadata": {
        "colab": {
          "base_uri": "https://localhost:8080/"
        },
        "id": "qUtMEcI9--2T",
        "outputId": "af88da05-0ae4-4cde-c462-d9aef6d3c7e0"
      },
      "execution_count": 34,
      "outputs": [
        {
          "output_type": "execute_result",
          "data": {
            "text/plain": [
              "1.0"
            ]
          },
          "metadata": {},
          "execution_count": 34
        }
      ]
    },
    {
      "cell_type": "markdown",
      "source": [
        "play stims"
      ],
      "metadata": {
        "id": "pJiIaJ_Sj4m-"
      }
    },
    {
      "cell_type": "code",
      "source": [
        "# sim_params['stim_amp'] = -0.1\n",
        "\n",
        "#rebuild the cell to make sure the set_simulation() is using the correct hobj\n",
        "#if using hoc call with the hoc filename and cell name\n",
        "\n",
        "# soma_diam_multiplier = 1\n",
        "# hobject = build_cell(soma_diam_multiplier)\n",
        "#hobject = build_cell(soma_diam_multiplier,using_hoc=True,'HYPO_TEMPLATE.hoc','HYPO')\n",
        "\n",
        "# run the simulation\n",
        "# h, stim = set_simulation(hobject,sim_params)\n",
        "\n",
        "\n",
        "v = h.Vector().record(hobject.soma[0](0.5)._ref_v)\n",
        "h.dt=0.2\n",
        "h.finitialize(-51)\n",
        "h.continuerun(1000)\n",
        "#plot the result and display spike frequency\n",
        "V = v.as_numpy()\n",
        "T = np.arange(0,h.tstop+h.dt,h.dt)\n",
        "plt.plot(V)\n",
        "plt.title(f\"Vm at {sim_params['stim_amp']} nA\")\n",
        "plt.show()\n",
        "\n",
        "print(f\"spike frequency = {get_frequency(v,sim_params):.2f} Hz\")"
      ],
      "metadata": {
        "id": "zOdeVDYQ-_BY"
      },
      "execution_count": null,
      "outputs": []
    },
    {
      "cell_type": "code",
      "source": [
        "def PoissonSpikeTrain(freq,\n",
        "                      dt=None,\n",
        "                      tstop=1.,\n",
        "                      seed=None):\n",
        "    \"\"\"\n",
        "    Poisson spike train from a given frequency (homogeneous process)\n",
        "\n",
        "    \"\"\"\n",
        "    if seed is None:\n",
        "        seed = np.random.randint(1000)\n",
        "    np.random.seed(seed)\n",
        "\n",
        "    if dt is not None and (type(freq) in [np.ndarray, np.array, list]):\n",
        "        spikes = []\n",
        "        rdms = np.random.uniform(0, 1, size=len(freq))\n",
        "        for i, rdm in enumerate(rdms):\n",
        "            if rdm<(freq[i]*dt):\n",
        "                spikes.append(i*dt)\n",
        "        return spikes\n",
        "\n",
        "    elif type(freq) in [float]:\n",
        "        spikes = np.cumsum(\\\n",
        "                np.random.exponential(1./freq, int(2.*tstop*freq)+10))\n",
        "        return spikes[spikes<tstop]\n",
        "\n",
        "    else:\n",
        "        print('\\n missing input --> no spikes generated ! \\n')"
      ],
      "metadata": {
        "id": "fk0LGDSLK-_6"
      },
      "execution_count": 38,
      "outputs": []
    },
    {
      "cell_type": "code",
      "source": [
        "PoissonSpikeTrain(3.0)"
      ],
      "metadata": {
        "colab": {
          "base_uri": "https://localhost:8080/"
        },
        "id": "D53LsQ2f9OAd",
        "outputId": "3d55af98-80fb-42e7-d23a-b5765cbef260"
      },
      "execution_count": 41,
      "outputs": [
        {
          "output_type": "execute_result",
          "data": {
            "text/plain": [
              "array([0.02665435, 0.2512418 , 0.25752813, 0.89376126, 0.90724566])"
            ]
          },
          "metadata": {},
          "execution_count": 41
        }
      ]
    },
    {
      "cell_type": "code",
      "source": [
        "\n",
        "# ampaNETCON = h.NetCon(h.VecStim(),syn)"
      ],
      "metadata": {
        "id": "eBbaaFiSaIAD"
      },
      "execution_count": 26,
      "outputs": []
    },
    {
      "cell_type": "code",
      "source": [
        "VECSTIMS[i].play(STIMS[-1])"
      ],
      "metadata": {
        "id": "86k5L2GF_bLb"
      },
      "execution_count": null,
      "outputs": []
    },
    {
      "cell_type": "code",
      "source": [
        "# To test this, we 267 generated input patterns by randomly picking a sparse subset of synapses (4%, see Fig. S9) located 268 on a distal (160-200 μm) and proximal (20-60 μm) segment of a single dendritic branch (Fig. 4A) 269 and simulated the arrival of spatially clustered synaptic inputs that are known to engage sublinear 270 integration. This resulted in a small number of synapses (from 2 to 8) that we activated 271 independently and quasi-synchronously (0.5ms delay) to compute the “linear” and “observed” 272 responses in each of the segments (Fig. 4B)."
      ],
      "metadata": {
        "id": "uEoh9uPA_bOV"
      },
      "execution_count": null,
      "outputs": []
    },
    {
      "cell_type": "code",
      "source": [
        "# -- synaptic activity\n",
        "    TRAINS = [[] for s in range(len(synapses)*STP_model['Nmax'])]\n",
        "    for i, syn in enumerate(synapses):\n",
        "        if excitatory[i]:\n",
        "            # we draw one spike train:\n",
        "            train_s = np.array(PoissonSpikeTrain(Stim,\n",
        "                                    dt=1e-3*dt, tstop=1e-3*tstop,\n",
        "                                    seed=trialSeed+1000+i)) # Hz,s\n",
        "            # STP only in excitatory\n",
        "            N = STP_release_filter(train_s,\n",
        "                                   seed=trialSeed+2000+i,\n",
        "                                   **STP_model)\n",
        "            for n in range(1, STP_model['Nmax']+1):\n",
        "                # we split according to release number ++ train to ** ms **\n",
        "                TRAINS[i+len(synapses)*(n-1)] += list(1e3*train_s[N==n])\n",
        "        else:\n",
        "            # GABA -> only single release\n",
        "            # train_s = np.array(PoissonSpikeTrain(bgFreqInhFactor*Stim, # REMOVED\n",
        "            train_s = np.array(PoissonSpikeTrain(Stim,\n",
        "                                    dt=1e-3*dt, tstop=1e-3*tstop,\n",
        "                                    seed=trialSeed+3000+i)) # Hz,s\n",
        "            TRAINS[i] += list(1e3*train_s) # to ** ms **\n",
        "\n",
        "    # -- reordering spike trains\n",
        "    for i in range(len(TRAINS)):\n",
        "        TRAINS[i] = np.sort(TRAINS[i])\n",
        "\n",
        "    # -- link events to synapses\n",
        "    for i in range(len(TRAINS)):\n",
        "        STIMS.append(h.Vector(TRAINS[i]))\n",
        "        VECSTIMS[i].play(STIMS[-1])"
      ],
      "metadata": {
        "id": "SwjXM3DG-xOv"
      },
      "execution_count": null,
      "outputs": []
    },
    {
      "cell_type": "code",
      "source": [],
      "metadata": {
        "id": "qYhmqcU_-xUG"
      },
      "execution_count": null,
      "outputs": []
    },
    {
      "cell_type": "code",
      "source": [],
      "metadata": {
        "id": "sIHvvkK0-xXK"
      },
      "execution_count": null,
      "outputs": []
    },
    {
      "cell_type": "code",
      "source": [
        "def add_synaptic_input(cell, synapses,\n",
        "                       with_NMDA=False,\n",
        "                       Nmax_release = 1,\n",
        "                       boost_AMPA_for_SST_noNMDA=True,\n",
        "                       Inh_fraction=20./100.,\n",
        "                       seed=None):\n",
        "    \"\"\"\n",
        "    add AMPA, NMDA and GABA synapses to a given cell\n",
        "\n",
        "    if Nmax>1\n",
        "    it adds other synapses with double (Nmax>=2), triple (Nmax>=3), ...\n",
        "        vesicular synaptic release only on AMPA and NMDA !\n",
        "\n",
        "    \"\"\"\n",
        "    if seed is None:\n",
        "        seed = np.random.randint(1000)\n",
        "    np.random.seed(seed)\n",
        "\n",
        "    AMPAS, NMDAS, GABAS = [], [], []\n",
        "    ampaNETCONS, nmdaNETCONS, gabaNETCONS = [], [], []\n",
        "    STIMS, VECSTIMS = [], []\n",
        "\n",
        "    excitatory = np.random.choice([True, False],\n",
        "                                  len(synapses),\n",
        "                                  p=[1.-Inh_fraction, Inh_fraction])\n",
        "\n",
        "    for nVesicles in range(1, Nmax_release+1):\n",
        "\n",
        "        for i, syn in enumerate(synapses):\n",
        "\n",
        "            VECSTIMS.append(h.VecStim())\n",
        "\n",
        "            # need to avoid x=0 and x=1, to allow ion concentrations variations in NEURON\n",
        "            x = np.clip(cell.SEGMENTS['NEURON_segment'][syn],\n",
        "                    1, cell.SEGMENTS['NEURON_section'][syn].nseg-2)\\\n",
        "                            /cell.SEGMENTS['NEURON_section'][syn].nseg\n",
        "\n",
        "            if excitatory[i]:\n",
        "                # excitatory synapses\n",
        "\n",
        "                AMPAS.append(\\\n",
        "                        h.CPGLUIN(x, sec=cell.SEGMENTS['NEURON_section'][syn]))\n",
        "\n",
        "                if with_NMDA:\n",
        "                    NMDAS.append(\\\n",
        "                            h.NMDAIN(x, sec=cell.SEGMENTS['NEURON_section'][syn]))\n",
        "\n",
        "                ampaNETCONS.append(h.NetCon(VECSTIMS[-1], AMPAS[-1]))\n",
        "                if (cell.params_key=='MC') and (not with_NMDA)\\\n",
        "                        and boost_AMPA_for_SST_noNMDA:\n",
        "                    # boosted ampa weight\n",
        "                    ampaNETCONS[-1].weight[0] = cell.params['%s_qAMPA'%cell.params_key]*\\\n",
        "                                    cell.params['%s_qAMPAonlyBoost'%cell.params_key]*\\\n",
        "                                    nVesicles\n",
        "                else:\n",
        "                    # regular ampa weight\n",
        "                    ampaNETCONS[-1].weight[0] = cell.params['%s_qAMPA'%cell.params_key]*\\\n",
        "                                                    nVesicles\n",
        "\n",
        "                if with_NMDA:\n",
        "                    nmdaNETCONS.append(h.NetCon(VECSTIMS[-1], NMDAS[-1]))\n",
        "                    nmdaNETCONS[-1].weight[0] = cell.params['%s_NAR'%cell.params_key]*\\\n",
        "                                                    cell.params['%s_qAMPA'%cell.params_key]*\\\n",
        "                                                    nVesicles\n",
        "\n",
        "                GABAS.append(None)\n",
        "                gabaNETCONS.append(None)\n",
        "\n",
        "            elif nVesicles==1:\n",
        "                # inhibitory synapses\n",
        "\n",
        "                GABAS.append(\\\n",
        "                        h.GABAain(x, sec=cell.SEGMENTS['NEURON_section'][syn]))\n",
        "\n",
        "                gabaNETCONS.append(h.NetCon(VECSTIMS[-1], GABAS[-1]))\n",
        "                gabaNETCONS[-1].weight[0] = cell.params['%s_qGABA'%cell.params_key]\n",
        "\n",
        "                AMPAS.append(None)\n",
        "                NMDAS.append(None)\n",
        "                ampaNETCONS.append(None)\n",
        "                nmdaNETCONS.append(None)\n",
        "\n",
        "            else:\n",
        "                # nothing, no multi-vesicular of GABAergic synapses\n",
        "                GABAS.append(None)\n",
        "                gabaNETCONS.append(None)\n",
        "                AMPAS.append(None)\n",
        "                NMDAS.append(None)\n",
        "                ampaNETCONS.append(None)\n",
        "                nmdaNETCONS.append(None)\n",
        "\n",
        "    return AMPAS, NMDAS, GABAS,\\\n",
        "            ampaNETCONS, nmdaNETCONS, gabaNETCONS,\\\n",
        "            STIMS, VECSTIMS, excitatory"
      ],
      "metadata": {
        "id": "Zr_UByC3QGgE"
      },
      "execution_count": null,
      "outputs": []
    }
  ],
  "metadata": {
    "colab": {
      "provenance": []
    },
    "kernelspec": {
      "display_name": "simulations",
      "language": "python",
      "name": "python3"
    },
    "language_info": {
      "codemirror_mode": {
        "name": "ipython",
        "version": 3
      },
      "file_extension": ".py",
      "mimetype": "text/x-python",
      "name": "python",
      "nbconvert_exporter": "python",
      "pygments_lexer": "ipython3",
      "version": "3.10.13"
    }
  },
  "nbformat": 4,
  "nbformat_minor": 0
}